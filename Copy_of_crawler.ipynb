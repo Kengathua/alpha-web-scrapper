{
  "nbformat": 4,
  "nbformat_minor": 0,
  "metadata": {
    "colab": {
      "name": "Copy of crawler.ipynb",
      "provenance": [],
      "collapsed_sections": [],
      "authorship_tag": "ABX9TyPxtFl1khXIfG1BHPiU/SOg",
      "include_colab_link": true
    },
    "kernelspec": {
      "display_name": "Python 3",
      "name": "python3"
    },
    "language_info": {
      "name": "python"
    }
  },
  "cells": [
    {
      "cell_type": "markdown",
      "metadata": {
        "id": "view-in-github",
        "colab_type": "text"
      },
      "source": [
        "<a href=\"https://colab.research.google.com/github/Kengathua/alpha-web-scrapper/blob/master/Copy_of_crawler.ipynb\" target=\"_parent\"><img src=\"https://colab.research.google.com/assets/colab-badge.svg\" alt=\"Open In Colab\"/></a>"
      ]
    },
    {
      "cell_type": "code",
      "source": [
        ""
      ],
      "metadata": {
        "id": "_yPvXQm6Pkob"
      },
      "execution_count": null,
      "outputs": []
    },
    {
      "cell_type": "code",
      "metadata": {
        "id": "2L5mBqchv9v-",
        "colab": {
          "base_uri": "https://localhost:8080/"
        },
        "outputId": "1c88d3ca-1968-48d2-8680-2e593f9b1339"
      },
      "source": [
        "!pip install selenium\n",
        "import selenium"
      ],
      "execution_count": null,
      "outputs": [
        {
          "output_type": "stream",
          "name": "stdout",
          "text": [
            "Requirement already satisfied: selenium in /usr/local/lib/python3.7/dist-packages (4.0.0)\n",
            "Requirement already satisfied: trio~=0.17 in /usr/local/lib/python3.7/dist-packages (from selenium) (0.19.0)\n",
            "Requirement already satisfied: urllib3[secure]~=1.26 in /usr/local/lib/python3.7/dist-packages (from selenium) (1.26.7)\n",
            "Requirement already satisfied: trio-websocket~=0.9 in /usr/local/lib/python3.7/dist-packages (from selenium) (0.9.2)\n",
            "Requirement already satisfied: idna in /usr/local/lib/python3.7/dist-packages (from trio~=0.17->selenium) (2.10)\n",
            "Requirement already satisfied: attrs>=19.2.0 in /usr/local/lib/python3.7/dist-packages (from trio~=0.17->selenium) (21.2.0)\n",
            "Requirement already satisfied: async-generator>=1.9 in /usr/local/lib/python3.7/dist-packages (from trio~=0.17->selenium) (1.10)\n",
            "Requirement already satisfied: sortedcontainers in /usr/local/lib/python3.7/dist-packages (from trio~=0.17->selenium) (2.4.0)\n",
            "Requirement already satisfied: sniffio in /usr/local/lib/python3.7/dist-packages (from trio~=0.17->selenium) (1.2.0)\n",
            "Requirement already satisfied: outcome in /usr/local/lib/python3.7/dist-packages (from trio~=0.17->selenium) (1.1.0)\n",
            "Requirement already satisfied: wsproto>=0.14 in /usr/local/lib/python3.7/dist-packages (from trio-websocket~=0.9->selenium) (1.0.0)\n",
            "Requirement already satisfied: cryptography>=1.3.4 in /usr/local/lib/python3.7/dist-packages (from urllib3[secure]~=1.26->selenium) (35.0.0)\n",
            "Requirement already satisfied: pyOpenSSL>=0.14 in /usr/local/lib/python3.7/dist-packages (from urllib3[secure]~=1.26->selenium) (21.0.0)\n",
            "Requirement already satisfied: certifi in /usr/local/lib/python3.7/dist-packages (from urllib3[secure]~=1.26->selenium) (2021.5.30)\n",
            "Requirement already satisfied: cffi>=1.12 in /usr/local/lib/python3.7/dist-packages (from cryptography>=1.3.4->urllib3[secure]~=1.26->selenium) (1.14.6)\n",
            "Requirement already satisfied: pycparser in /usr/local/lib/python3.7/dist-packages (from cffi>=1.12->cryptography>=1.3.4->urllib3[secure]~=1.26->selenium) (2.20)\n",
            "Requirement already satisfied: six>=1.5.2 in /usr/local/lib/python3.7/dist-packages (from pyOpenSSL>=0.14->urllib3[secure]~=1.26->selenium) (1.15.0)\n",
            "Requirement already satisfied: h11<1,>=0.9.0 in /usr/local/lib/python3.7/dist-packages (from wsproto>=0.14->trio-websocket~=0.9->selenium) (0.12.0)\n"
          ]
        }
      ]
    },
    {
      "cell_type": "code",
      "metadata": {
        "colab": {
          "base_uri": "https://localhost:8080/"
        },
        "id": "CnSoaPS0D-a7",
        "outputId": "acbdfca7-404f-4451-a7e0-ee761ced5a81"
      },
      "source": [
        "!pip install selenium\n",
        "!apt-get update \n",
        "!apt install chromium-chromedriver\n",
        "\n",
        "from selenium import webdriver\n",
        "chrome_options = webdriver.ChromeOptions()\n",
        "chrome_options.add_argument('--headless')\n",
        "chrome_options.add_argument('--no-sandbox')\n",
        "chrome_options.add_argument('--disable-dev-shm-usage')\n",
        "chrome_options.add_argument('--ignore-certificate-errors')\n",
        "chrome_options.add_argument('--incognito')\n",
        "chrome_options.add_argument('--headless')\n",
        "wd = webdriver.Chrome('chromedriver',chrome_options=chrome_options)\n",
        "driver =webdriver.Chrome('chromedriver',chrome_options=chrome_options)"
      ],
      "execution_count": null,
      "outputs": [
        {
          "output_type": "stream",
          "name": "stdout",
          "text": [
            "Requirement already satisfied: selenium in /usr/local/lib/python3.7/dist-packages (4.0.0)\n",
            "Requirement already satisfied: urllib3[secure]~=1.26 in /usr/local/lib/python3.7/dist-packages (from selenium) (1.26.7)\n",
            "Requirement already satisfied: trio~=0.17 in /usr/local/lib/python3.7/dist-packages (from selenium) (0.19.0)\n",
            "Requirement already satisfied: trio-websocket~=0.9 in /usr/local/lib/python3.7/dist-packages (from selenium) (0.9.2)\n",
            "Requirement already satisfied: idna in /usr/local/lib/python3.7/dist-packages (from trio~=0.17->selenium) (2.10)\n",
            "Requirement already satisfied: sortedcontainers in /usr/local/lib/python3.7/dist-packages (from trio~=0.17->selenium) (2.4.0)\n",
            "Requirement already satisfied: attrs>=19.2.0 in /usr/local/lib/python3.7/dist-packages (from trio~=0.17->selenium) (21.2.0)\n",
            "Requirement already satisfied: sniffio in /usr/local/lib/python3.7/dist-packages (from trio~=0.17->selenium) (1.2.0)\n",
            "Requirement already satisfied: outcome in /usr/local/lib/python3.7/dist-packages (from trio~=0.17->selenium) (1.1.0)\n",
            "Requirement already satisfied: async-generator>=1.9 in /usr/local/lib/python3.7/dist-packages (from trio~=0.17->selenium) (1.10)\n",
            "Requirement already satisfied: wsproto>=0.14 in /usr/local/lib/python3.7/dist-packages (from trio-websocket~=0.9->selenium) (1.0.0)\n",
            "Requirement already satisfied: cryptography>=1.3.4 in /usr/local/lib/python3.7/dist-packages (from urllib3[secure]~=1.26->selenium) (35.0.0)\n",
            "Requirement already satisfied: pyOpenSSL>=0.14 in /usr/local/lib/python3.7/dist-packages (from urllib3[secure]~=1.26->selenium) (21.0.0)\n",
            "Requirement already satisfied: certifi in /usr/local/lib/python3.7/dist-packages (from urllib3[secure]~=1.26->selenium) (2021.5.30)\n",
            "Requirement already satisfied: cffi>=1.12 in /usr/local/lib/python3.7/dist-packages (from cryptography>=1.3.4->urllib3[secure]~=1.26->selenium) (1.14.6)\n",
            "Requirement already satisfied: pycparser in /usr/local/lib/python3.7/dist-packages (from cffi>=1.12->cryptography>=1.3.4->urllib3[secure]~=1.26->selenium) (2.20)\n",
            "Requirement already satisfied: six>=1.5.2 in /usr/local/lib/python3.7/dist-packages (from pyOpenSSL>=0.14->urllib3[secure]~=1.26->selenium) (1.15.0)\n",
            "Requirement already satisfied: h11<1,>=0.9.0 in /usr/local/lib/python3.7/dist-packages (from wsproto>=0.14->trio-websocket~=0.9->selenium) (0.12.0)\n",
            "Hit:1 http://ppa.launchpad.net/c2d4u.team/c2d4u4.0+/ubuntu bionic InRelease\n",
            "Hit:2 http://archive.ubuntu.com/ubuntu bionic InRelease\n",
            "Hit:3 http://archive.ubuntu.com/ubuntu bionic-updates InRelease\n",
            "Hit:4 https://cloud.r-project.org/bin/linux/ubuntu bionic-cran40/ InRelease\n",
            "Hit:5 http://ppa.launchpad.net/cran/libgit2/ubuntu bionic InRelease\n",
            "Hit:6 http://archive.ubuntu.com/ubuntu bionic-backports InRelease\n",
            "Hit:7 http://ppa.launchpad.net/deadsnakes/ppa/ubuntu bionic InRelease\n",
            "Hit:8 http://ppa.launchpad.net/graphics-drivers/ppa/ubuntu bionic InRelease\n",
            "Hit:9 http://security.ubuntu.com/ubuntu bionic-security InRelease\n",
            "Ign:10 https://developer.download.nvidia.com/compute/cuda/repos/ubuntu1804/x86_64  InRelease\n",
            "Ign:11 https://developer.download.nvidia.com/compute/machine-learning/repos/ubuntu1804/x86_64  InRelease\n",
            "Hit:12 https://developer.download.nvidia.com/compute/cuda/repos/ubuntu1804/x86_64  Release\n",
            "Hit:13 https://developer.download.nvidia.com/compute/machine-learning/repos/ubuntu1804/x86_64  Release\n",
            "Reading package lists... Done\n",
            "Reading package lists... Done\n",
            "Building dependency tree       \n",
            "Reading state information... Done\n",
            "chromium-chromedriver is already the newest version (95.0.4638.69-0ubuntu0.18.04.1).\n",
            "0 upgraded, 0 newly installed, 0 to remove and 47 not upgraded.\n"
          ]
        },
        {
          "output_type": "stream",
          "name": "stderr",
          "text": [
            "/usr/local/lib/python3.7/dist-packages/ipykernel_launcher.py:13: DeprecationWarning: use options instead of chrome_options\n",
            "  del sys.path[0]\n",
            "/usr/local/lib/python3.7/dist-packages/ipykernel_launcher.py:14: DeprecationWarning: use options instead of chrome_options\n",
            "  \n"
          ]
        }
      ]
    },
    {
      "cell_type": "code",
      "metadata": {
        "id": "aGBcWWaeALzp"
      },
      "source": [
        "import os\n",
        "import datetime\n",
        "from datetime import date\n",
        "import requests\n",
        "from bs4 import BeautifulSoup\n",
        "\n",
        "import datetime\n",
        "from datetime import date\n",
        "import requests\n",
        "from bs4 import BeautifulSoup\n",
        "\n",
        "import time\n",
        "from selenium import webdriver\n",
        "from selenium.webdriver.chrome.options import Options\n",
        "from selenium.common.exceptions import NoSuchElementException\n",
        "\n",
        "from pandas_datareader._utils import RemoteDataError\n",
        "\n",
        "import csv"
      ],
      "execution_count": null,
      "outputs": []
    },
    {
      "cell_type": "code",
      "metadata": {
        "id": "pP9gAefPEms0"
      },
      "source": [
        "base = datetime.datetime.today().date()\n",
        "date_list = [base - datetime.timedelta(days=x) for x in range(5000)]\n",
        "stocks = []\n",
        "\n",
        "def get_historical_data():\n",
        "    if not os.path.exists('historical_nse_dfs'):\n",
        "        os.makedirs('historical_nse_dfs')\n",
        "\n",
        "    for count, date in enumerate(date_list):\n",
        "        date = str(date)\n",
        "        asin = str(date).replace('-', '')\n",
        "        url = 'https://live.mystocks.co.ke/price_list/{}'.format(asin)\n",
        "\n",
        "        driver.get(url)\n",
        "\n",
        "        for i in range(3, 88):\n",
        "            try:\n",
        "                sector_xpath = '//*[@id=\"pricelist\"]/tbody/tr[{}]'.format(i)\n",
        "                ticker_xpath = '//*[@id=\"pricelist\"]/tbody/tr[{}]/td[1]'.format(i)\n",
        "                company_xpath = '//*[@id=\"pricelist\"]/tbody/tr[{}]/td[2]/a'.format(\n",
        "                    i)\n",
        "                low_xpath = '//*[@id=\"pricelist\"]/tbody/tr[{}]/td[5]'.format(i)\n",
        "                high_xpath = '//*[@id=\"pricelist\"]/tbody/tr[{}]/td[6]'.format(i)\n",
        "                current_xpath = '//*[@id=\"pricelist\"]/tbody/tr[{}]/td[7]'.format(i)\n",
        "                open_xpath = '//*[@id=\"pricelist\"]/tbody/tr[{}]/td[8]'.format(i)\n",
        "                volume_xpath = '//*[@id=\"pricelist\"]/tbody/tr[{}]/td[12]'.format(i)\n",
        "\n",
        "                stock = []\n",
        "                stock.append(date)\n",
        "                sector = driver.find_element_by_xpath(sector_xpath).text\n",
        "                stock.append(sector)\n",
        "                ticker = driver.find_element_by_xpath(ticker_xpath).text\n",
        "                stock.append(ticker)\n",
        "                company = driver.find_element_by_xpath(company_xpath).text\n",
        "                stock.append(company)\n",
        "                low = driver.find_element_by_xpath(low_xpath).text\n",
        "                stock.append(low)\n",
        "                high = driver.find_element_by_xpath(high_xpath).text\n",
        "                stock.append(high)\n",
        "                current = driver.find_element_by_xpath(current_xpath).text\n",
        "                stock.append(current)\n",
        "                open = driver.find_element_by_xpath(open_xpath).text\n",
        "                stock.append(open)\n",
        "                volume = driver.find_element_by_xpath(volume_xpath).text\n",
        "                stock.append(volume)\n",
        "\n",
        "                stocks.append(stock)\n",
        "\n",
        "            except NoSuchElementException:\n",
        "                pass\n",
        "\n",
        "        if count%20 == 0:\n",
        "          print(count)\n",
        "    return stocks\n",
        "# get_historical_data() # running this and running it again from save will give double records"
      ],
      "execution_count": null,
      "outputs": []
    },
    {
      "cell_type": "code",
      "metadata": {
        "id": "50q95tkQGkub"
      },
      "source": [
        "def save_historical_data():\n",
        "\n",
        "        stocks= get_historical_data()\n",
        "\n",
        "        fieldnames = ['Date', 'Open', 'Low', 'High', 'Close', 'Adj Close', 'Volume']\n",
        "\n",
        "        for stock in stocks:\n",
        "            ticker = stock[2]\n",
        "            date = stock[0]\n",
        "            low = (stock[4])\n",
        "            high = (stock[5])\n",
        "            close = (stock[6])\n",
        "            start = (stock[7])\n",
        "            volume = (stock[8])\n",
        "\n",
        "            print(date, ticker, low, high, close, start, volume)\n",
        "\n",
        "            rows = [{\n",
        "                    'Date': date,\n",
        "                    'Open': start,\n",
        "                    'Low': low,\n",
        "                    'High': high,\n",
        "                    'Close': close,\n",
        "                    'Adj Close': close,\n",
        "                    'Volume': volume,\n",
        "                    }]\n",
        "            \n",
        "            # field_name = 'name'\n",
        "            # stock_obj = Ticker.objects.get(name=ticker)\n",
        "            # stock_name = getattr(stock_obj, field_name)\n",
        "\n",
        "            if not os.path.exists(\"historical_nse_dfs/{}.csv\".format(ticker)):\n",
        "                try:\n",
        "                    with open('historical_nse_dfs/{}.csv'.format(ticker), \"w\", encoding='UTF8', newline='') as f:\n",
        "                        csv_writer = csv.DictWriter(\n",
        "                            f, fieldnames=fieldnames)\n",
        "                        csv_writer.writeheader()\n",
        "                        csv_writer.writerows(rows)\n",
        "                except RemoteDataError as exp:\n",
        "                    print('Unable to read data from: {}'.format(ticker))\n",
        "            else:\n",
        "                try:\n",
        "                    with open('historical_nse_dfs/{}.csv'.format(ticker), \"a\", encoding='UTF8', newline='') as f:\n",
        "                        csv_writer = csv.DictWriter(\n",
        "                            f, fieldnames=fieldnames)\n",
        "                        csv_writer.writerows(rows)\n",
        "                except RemoteDataError as exp:\n",
        "                    print('Unable to read data from: {}'.format(ticker))\n",
        "            \n",
        "\n",
        "save_historical_data()"
      ],
      "execution_count": null,
      "outputs": []
    },
    {
      "cell_type": "code",
      "metadata": {
        "id": "eh59AVXK_zOd"
      },
      "source": [
        "from selenium.webdriver import ActionChains\n",
        "import time\n",
        "from selenium import webdriver\n",
        "from selenium.webdriver.chrome.options import Options\n",
        "from selenium.webdriver.common import action_chains\n",
        "\n",
        "options = Options()\n",
        "options.add_argument('--ignore-certificate-errors')\n",
        "options.add_argument('--incognito')\n",
        "options.add_argument('--headless')\n",
        "\n",
        "driver = webdriver.Chrome(\n",
        "    \"/usr/bin/chromedriver\", options=options)\n",
        "\n",
        "driver.get(\n",
        "    \"https://live.mystocks.co.ke/price_list/\")\n",
        "\n",
        "xpath_str = '/html/body/div/div[2]/div[2]/table[1]/tbody/tr/td[1]/a'\n",
        "element = driver.find_element_by_xpath(xpath_str)\n",
        "\n",
        "# action_chains.move_to_element(element).click().perform()\n",
        "\n",
        "for count, i in range (0, 4000):\n",
        "    actions = ActionChains(driver)\n",
        "    actions.move_to_element(element).click().perform()\n",
        "    print(count)\n",
        "    if count % 10 == 0:\n",
        "            # Monitor progress by printing how far the progress is\n",
        "            print(\"Reached\",count)"
      ],
      "execution_count": null,
      "outputs": []
    },
    {
      "cell_type": "code",
      "metadata": {
        "colab": {
          "base_uri": "https://localhost:8080/"
        },
        "id": "bZwx4HWczdZz",
        "outputId": "9860b36c-7222-4030-8c56-ca91a1270d1d"
      },
      "source": [
        "!pip install selenium\n",
        "!apt-get update # to update ubuntu to correctly run apt install\n",
        "!apt install chromium-chromedriver\n",
        "!cp /usr/lib/chromium-browser/chromedriver /usr/bin\n",
        "import sys\n",
        "sys.path.insert(0,'/usr/lib/chromium-browser/chromedriver')\n",
        "from selenium import webdriver\n",
        "chrome_options = webdriver.ChromeOptions()\n",
        "chrome_options.add_argument('--headless')\n",
        "chrome_options.add_argument('--no-sandbox')\n",
        "chrome_options.add_argument('--disable-dev-shm-usage')\n",
        "wd = webdriver.Chrome('chromedriver',chrome_options=chrome_options)\n",
        "wd.get(\"https://www.webite-url.com\")"
      ],
      "execution_count": null,
      "outputs": [
        {
          "name": "stdout",
          "output_type": "stream",
          "text": [
            "cp: '/usr/lib/chromium-browser/chromedriver' and '/usr/bin/chromedriver' are the same file\n"
          ]
        }
      ]
    },
    {
      "cell_type": "code",
      "metadata": {
        "colab": {
          "base_uri": "https://localhost:8080/"
        },
        "id": "0o6W1QNE0tRc",
        "outputId": "068647a1-9515-4798-8c76-fb8aae456df6"
      },
      "source": [
        "import sys\n",
        "from selenium import webdriver\n",
        "sys.path.insert(0,'/usr/lib/chromium-browser/chromedriver')\n",
        "\n",
        "options = Options()\n",
        "options.add_argument('--ignore-certificate-errors')\n",
        "options.add_argument('--incognito')\n",
        "options.add_argument('--headless')\n",
        "\n",
        "options.add_argument('--headless')\n",
        "options.add_argument('--no-sandbox')\n",
        "options.add_argument('--disable-dev-shm-usage')\n",
        "\n",
        "driver = webdriver.Chrome('chromedriver',options=options)\n",
        "driver.get(\"https://live.mystocks.co.ke/price_list/\")\n",
        "\n",
        "\n",
        "xpath_str = '//*[@id=\"commands\"]/tbody/tr/td[1]/a'\n",
        "element = driver.find_element_by_xpath(xpath_str)\n",
        "\n",
        "actions = ActionChains(driver)\n",
        "actions.move_to_element(element).click().perform()\n",
        "\n"
      ],
      "execution_count": null,
      "outputs": [
        {
          "name": "stderr",
          "output_type": "stream",
          "text": [
            "/usr/local/lib/python3.7/dist-packages/ipykernel_launcher.py:19: DeprecationWarning: find_element_by_* commands are deprecated. Please use find_element() instead\n"
          ]
        }
      ]
    },
    {
      "cell_type": "code",
      "metadata": {
        "id": "joVWhoCL4RZ-"
      },
      "source": [
        ""
      ],
      "execution_count": null,
      "outputs": []
    },
    {
      "cell_type": "code",
      "metadata": {
        "id": "L9YgCTxs4R-c"
      },
      "source": [
        "import sys\n",
        "from selenium import webdriver\n",
        "sys.path.insert(0,'/usr/lib/chromium-browser/chromedriver')\n",
        "\n",
        "options = Options()\n",
        "options.add_argument('--ignore-certificate-errors')\n",
        "options.add_argument('--incognito')\n",
        "options.add_argument('--headless')\n",
        "\n",
        "options.add_argument('--headless')\n",
        "options.add_argument('--no-sandbox')\n",
        "options.add_argument('--disable-dev-shm-usage')\n",
        "\n",
        "driver = webdriver.Chrome('chromedriver',options=options)\n",
        "driver.get(\"https://live.mystocks.co.ke/price_list/\")\n",
        "\n",
        "\n",
        "xpath_str = '//*[@id=\"commands\"]/tbody/tr/td[1]/a'\n",
        "element = driver.find_element_by_xpath(xpath_str)\n",
        "# element = driver.find_element_by_name('Previous Trading')\n",
        "element = driver.find_element_by_tag_name('Previous Trading')\n",
        "\n",
        "# def click_previous_btn():\n",
        "#   actions = ActionChains(driver)\n",
        "#   actions.move_to_element(element).click().perform()\n",
        "#   print(\"clicked previous\")\n",
        "\n",
        "# def get_stock_data():\n",
        "#   print(\"crawling\")\n",
        "#   click_previous_btn()\n",
        "\n",
        "# for i in range(10):\n",
        "#   get_stock_data()"
      ],
      "execution_count": null,
      "outputs": []
    },
    {
      "cell_type": "code",
      "metadata": {
        "colab": {
          "background_save": true,
          "base_uri": "https://localhost:8080/"
        },
        "id": "pbC8JenhfvcO",
        "outputId": "a94f6a54-df70-4a75-bcea-a1a2b49281cc"
      },
      "source": [
        "import datetime\n",
        "from datetime import date\n",
        "\n",
        "start = datetime.datetime(2013, 1, 1)\n",
        "end = datetime.datetime(2016, 1, 27)\n",
        "\n",
        "base = datetime.datetime.today().date()\n",
        "print(base)\n",
        "today = date.today().weekday()\n",
        "date_list = [base - datetime.timedelta(days=x) for x in range(10)]\n",
        "for date in date_list:\n",
        "  date = str(date).replace('-', '')\n",
        "  print(date)\n",
        "  # # url='https://live.mystocks.co.ke/price_list/20211103'.format(date)"
      ],
      "execution_count": null,
      "outputs": [
        {
          "name": "stdout",
          "output_type": "stream",
          "text": [
            "20211103\n",
            "https://live.mystocks.co.ke/price_list/20211103\n",
            "20211102\n",
            "https://live.mystocks.co.ke/price_list/20211103\n",
            "20211101\n",
            "https://live.mystocks.co.ke/price_list/20211103\n",
            "20211031\n",
            "https://live.mystocks.co.ke/price_list/20211103\n",
            "20211030\n",
            "https://live.mystocks.co.ke/price_list/20211103\n",
            "20211029\n",
            "https://live.mystocks.co.ke/price_list/20211103\n",
            "20211028\n",
            "https://live.mystocks.co.ke/price_list/20211103\n",
            "20211027\n",
            "https://live.mystocks.co.ke/price_list/20211103\n",
            "20211026\n",
            "https://live.mystocks.co.ke/price_list/20211103\n",
            "20211025\n",
            "https://live.mystocks.co.ke/price_list/20211103\n"
          ]
        }
      ]
    }
  ]
}